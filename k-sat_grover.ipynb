{
 "cells": [
  {
   "cell_type": "code",
   "id": "initial_id",
   "metadata": {
    "collapsed": true,
    "ExecuteTime": {
     "end_time": "2024-04-19T14:53:24.870957Z",
     "start_time": "2024-04-19T14:53:24.867534Z"
    }
   },
   "source": [
    "formula = \"\"\"\n",
    "    ( (x1) and (x1 or x3) and (not x2) and (not x4) and (x3 or x4) )\n",
    "\"\"\""
   ],
   "outputs": [],
   "execution_count": 1
  },
  {
   "metadata": {
    "ExecuteTime": {
     "end_time": "2024-04-19T14:54:36.647879Z",
     "start_time": "2024-04-19T14:54:32.790251Z"
    }
   },
   "cell_type": "code",
   "source": [
    "try:\n",
    "    import ttg\n",
    "\n",
    "    print(ttg.Truths([\"x1\", \"x2\", \"x3\", \"x4\"], [formula[1:-1]]))\n",
    "except:\n",
    "    print(\"Please import 'truth-table-generator' in order to print the truth table\")"
   ],
   "id": "b76631617442823d",
   "outputs": [
    {
     "name": "stdout",
     "output_type": "stream",
     "text": [
      "+------+------+------+------+------------------------------------------------------------------------+\n",
      "|  x1  |  x2  |  x3  |  x4  |      ( (x1) and (x1 or x3) and (not x2) and (not x4) and (x3 or x4) )  |\n",
      "|------+------+------+------+------------------------------------------------------------------------|\n",
      "|  1   |  1   |  1   |  1   |                                   1                                    |\n",
      "|  1   |  1   |  1   |  0   |                                   1                                    |\n",
      "|  1   |  1   |  0   |  1   |                                   1                                    |\n",
      "|  1   |  1   |  0   |  0   |                                   1                                    |\n",
      "|  1   |  0   |  1   |  1   |                                   1                                    |\n",
      "|  1   |  0   |  1   |  0   |                                   1                                    |\n",
      "|  1   |  0   |  0   |  1   |                                   1                                    |\n",
      "|  1   |  0   |  0   |  0   |                                   1                                    |\n",
      "|  0   |  1   |  1   |  1   |                                   0                                    |\n",
      "|  0   |  1   |  1   |  0   |                                   0                                    |\n",
      "|  0   |  1   |  0   |  1   |                                   0                                    |\n",
      "|  0   |  1   |  0   |  0   |                                   0                                    |\n",
      "|  0   |  0   |  1   |  1   |                                   0                                    |\n",
      "|  0   |  0   |  1   |  0   |                                   0                                    |\n",
      "|  0   |  0   |  0   |  1   |                                   0                                    |\n",
      "|  0   |  0   |  0   |  0   |                                   0                                    |\n",
      "+------+------+------+------+------------------------------------------------------------------------+\n"
     ]
    }
   ],
   "execution_count": 3
  },
  {
   "metadata": {
    "ExecuteTime": {
     "end_time": "2024-04-19T14:56:15.372420Z",
     "start_time": "2024-04-19T14:55:48.130495Z"
    }
   },
   "cell_type": "code",
   "source": [
    "from classiq import RegisterUserInput, construct_grover_model\n",
    "\n",
    "register_size = RegisterUserInput(size=1)\n",
    "\n",
    "qmod = construct_grover_model(\n",
    "    num_reps=1,\n",
    "    expression=\"(\" + formula + \")\",\n",
    "    definitions=[\n",
    "        (\"x1\", register_size),\n",
    "        (\"x2\", register_size),\n",
    "        (\"x3\", register_size),\n",
    "        (\"x4\", register_size),\n",
    "    ],\n",
    ")"
   ],
   "id": "9341e98d12669adb",
   "outputs": [],
   "execution_count": 5
  },
  {
   "metadata": {
    "ExecuteTime": {
     "end_time": "2024-04-19T14:56:53.907888Z",
     "start_time": "2024-04-19T14:56:53.891731Z"
    }
   },
   "cell_type": "code",
   "source": [
    "from classiq import write_qmod\n",
    "\n",
    "write_qmod(qmod, \"4_sat_grover\")"
   ],
   "id": "1e51df1c9cb1da03",
   "outputs": [],
   "execution_count": 6
  },
  {
   "metadata": {
    "ExecuteTime": {
     "end_time": "2024-04-19T14:57:30.109494Z",
     "start_time": "2024-04-19T14:57:11.942008Z"
    }
   },
   "cell_type": "code",
   "source": [
    "from classiq import QuantumProgram, synthesize\n",
    "\n",
    "qprog = synthesize(qmod)"
   ],
   "id": "95e21f063c50123b",
   "outputs": [],
   "execution_count": 7
  },
  {
   "metadata": {
    "ExecuteTime": {
     "end_time": "2024-04-19T14:57:53.045370Z",
     "start_time": "2024-04-19T14:57:50.839875Z"
    }
   },
   "cell_type": "code",
   "source": [
    "circuit = QuantumProgram.from_qprog(qprog)\n",
    "circuit.show()"
   ],
   "id": "6885ceac1c4e2166",
   "outputs": [
    {
     "name": "stdout",
     "output_type": "stream",
     "text": [
      "Opening: https://platform.classiq.io/circuit/2b5509e0-82de-4183-8960-74e0dd8876a1?version=0.40.0\n"
     ]
    }
   ],
   "execution_count": 8
  },
  {
   "metadata": {
    "ExecuteTime": {
     "end_time": "2024-04-19T15:01:18.980785Z",
     "start_time": "2024-04-19T15:01:18.859298Z"
    }
   },
   "cell_type": "code",
   "source": [
    "print(circuit.transpiled_circuit.depth)\n",
    "print(circuit.width)"
   ],
   "id": "baa26f3580aa0d2b",
   "outputs": [
    {
     "name": "stdout",
     "output_type": "stream",
     "text": [
      "173\n"
     ]
    },
    {
     "ename": "AttributeError",
     "evalue": "'QuantumProgram' object has no attribute 'width'",
     "output_type": "error",
     "traceback": [
      "\u001B[0;31m---------------------------------------------------------------------------\u001B[0m",
      "\u001B[0;31mAttributeError\u001B[0m                            Traceback (most recent call last)",
      "Cell \u001B[0;32mIn[13], line 2\u001B[0m\n\u001B[1;32m      1\u001B[0m \u001B[38;5;28mprint\u001B[39m(circuit\u001B[38;5;241m.\u001B[39mtranspiled_circuit\u001B[38;5;241m.\u001B[39mdepth)\n\u001B[0;32m----> 2\u001B[0m \u001B[38;5;28mprint\u001B[39m(\u001B[43mcircuit\u001B[49m\u001B[38;5;241;43m.\u001B[39;49m\u001B[43mwidth\u001B[49m)\n",
      "\u001B[0;31mAttributeError\u001B[0m: 'QuantumProgram' object has no attribute 'width'"
     ]
    }
   ],
   "execution_count": 13
  },
  {
   "metadata": {
    "ExecuteTime": {
     "end_time": "2024-04-19T14:59:37.361199Z",
     "start_time": "2024-04-19T14:59:31.659734Z"
    }
   },
   "cell_type": "code",
   "source": [
    "from classiq import execute, set_quantum_program_execution_preferences\n",
    "from classiq.execution import (\n",
    "    ClassiqBackendPreferences,\n",
    "    ClassiqSimulatorBackendNames,\n",
    "    ExecutionPreferences,\n",
    ")\n",
    "\n",
    "backend_preferences = ExecutionPreferences(\n",
    "    backend_preferences=ClassiqBackendPreferences(\n",
    "        backend_name=ClassiqSimulatorBackendNames.SIMULATOR\n",
    "    )\n",
    ")\n",
    "\n",
    "qprog = set_quantum_program_execution_preferences(qprog, backend_preferences)\n",
    "optimization_result = execute(qprog).result()"
   ],
   "id": "21e57a62bfc2354e",
   "outputs": [],
   "execution_count": 10
  },
  {
   "metadata": {
    "ExecuteTime": {
     "end_time": "2024-04-19T14:59:52.253504Z",
     "start_time": "2024-04-19T14:59:52.247002Z"
    }
   },
   "cell_type": "code",
   "source": "res = optimization_result[0].value",
   "id": "a56cc89cf3ad97d",
   "outputs": [],
   "execution_count": 11
  },
  {
   "metadata": {
    "ExecuteTime": {
     "end_time": "2024-04-19T15:00:08.979575Z",
     "start_time": "2024-04-19T15:00:08.965082Z"
    }
   },
   "cell_type": "code",
   "source": "res.counts_of_multiple_outputs((\"x1\", \"x2\", \"x3\", \"x4\"))",
   "id": "fc7d1c4d3ff03dea",
   "outputs": [
    {
     "data": {
      "text/plain": [
       "{('0', '1', '1', '1'): 73,\n",
       " ('1', '1', '1', '1'): 91,\n",
       " ('1', '0', '0', '0'): 83,\n",
       " ('0', '1', '0', '1'): 65,\n",
       " ('1', '0', '0', '1'): 63,\n",
       " ('1', '0', '1', '0'): 951,\n",
       " ('1', '0', '1', '1'): 60,\n",
       " ('1', '1', '0', '1'): 71,\n",
       " ('1', '1', '1', '0'): 72,\n",
       " ('1', '1', '0', '0'): 67,\n",
       " ('0', '0', '1', '0'): 89,\n",
       " ('0', '0', '0', '0'): 81,\n",
       " ('0', '1', '0', '0'): 64,\n",
       " ('0', '0', '1', '1'): 77,\n",
       " ('0', '1', '1', '0'): 66,\n",
       " ('0', '0', '0', '1'): 75}"
      ]
     },
     "execution_count": 12,
     "metadata": {},
     "output_type": "execute_result"
    }
   ],
   "execution_count": 12
  },
  {
   "metadata": {},
   "cell_type": "code",
   "outputs": [],
   "execution_count": null,
   "source": "",
   "id": "bfb15e0bb5663f92"
  }
 ],
 "metadata": {
  "kernelspec": {
   "display_name": "Python 3",
   "language": "python",
   "name": "python3"
  },
  "language_info": {
   "codemirror_mode": {
    "name": "ipython",
    "version": 2
   },
   "file_extension": ".py",
   "mimetype": "text/x-python",
   "name": "python",
   "nbconvert_exporter": "python",
   "pygments_lexer": "ipython2",
   "version": "2.7.6"
  }
 },
 "nbformat": 4,
 "nbformat_minor": 5
}
