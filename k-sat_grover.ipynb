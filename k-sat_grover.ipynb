{
 "cells": [
  {
   "metadata": {
    "ExecuteTime": {
     "end_time": "2024-04-20T08:29:17.231157Z",
     "start_time": "2024-04-20T08:29:17.225754Z"
    }
   },
   "cell_type": "code",
   "source": [
    "import numpy as np\n",
    "\n",
    "problem = [[1,0,0,0],[1,0,1,0],[0,-1,0,0],[0,0,0,-1],[0,0,1,1]]"
   ],
   "id": "fa802f43ab19b446",
   "outputs": [],
   "execution_count": 20
  },
  {
   "metadata": {
    "ExecuteTime": {
     "end_time": "2024-04-20T08:29:17.649205Z",
     "start_time": "2024-04-20T08:29:17.646029Z"
    }
   },
   "cell_type": "code",
   "source": [
    "def create_formula(problem):\n",
    "    string = ''\n",
    "    for row in problem:\n",
    "        temp = []\n",
    "        counter = 1\n",
    "        for element in row:\n",
    "            if element == 1:\n",
    "                temp.append('x' + str(counter))\n",
    "            elif element == -1:\n",
    "                temp.append('not x' + str(counter))\n",
    "            counter += 1\n",
    "\n",
    "        if len(temp) == 1:\n",
    "            string += '(' + temp[0] + ')' + 'and'\n",
    "        elif len(temp) > 1:\n",
    "            string += '(' + ' or '.join(temp) + ')' + 'and'\n",
    "    return '(' + string[:-3] + ')'"
   ],
   "id": "4b077ccdacb8f45",
   "outputs": [],
   "execution_count": 21
  },
  {
   "metadata": {
    "ExecuteTime": {
     "end_time": "2024-04-20T08:29:18.695911Z",
     "start_time": "2024-04-20T08:29:18.692002Z"
    }
   },
   "cell_type": "code",
   "source": "formula1 = create_formula(problem)",
   "id": "e6571db108463b0c",
   "outputs": [],
   "execution_count": 22
  },
  {
   "cell_type": "code",
   "id": "initial_id",
   "metadata": {
    "collapsed": true,
    "ExecuteTime": {
     "end_time": "2024-04-20T08:29:19.523026Z",
     "start_time": "2024-04-20T08:29:19.520305Z"
    }
   },
   "source": [
    "formula = \"\"\"\n",
    "    ( (x1) and (x1 or x3) and (not x2) and (not x4) and (x3 or x4) )\n",
    "\"\"\""
   ],
   "outputs": [],
   "execution_count": 23
  },
  {
   "metadata": {
    "ExecuteTime": {
     "end_time": "2024-04-20T08:29:34.898714Z",
     "start_time": "2024-04-20T08:29:34.811249Z"
    }
   },
   "cell_type": "code",
   "source": [
    "try:\n",
    "    import ttg\n",
    "\n",
    "    print(ttg.Truths([\"x1\", \"x2\", \"x3\", \"x4\"], [formula1[1:-1]]))\n",
    "except:\n",
    "    print(\"Please import 'truth-table-generator' in order to print the truth table\")"
   ],
   "id": "b76631617442823d",
   "outputs": [
    {
     "name": "stdout",
     "output_type": "stream",
     "text": [
      "+------+------+------+------+--------------------------------------------------------+\n",
      "|  x1  |  x2  |  x3  |  x4  |  (x1)and(x1 or x3)and(not x2)and(not x4)and(x3 or x4)  |\n",
      "|------+------+------+------+--------------------------------------------------------|\n",
      "|  1   |  1   |  1   |  1   |                           0                            |\n",
      "|  1   |  1   |  1   |  0   |                           0                            |\n",
      "|  1   |  1   |  0   |  1   |                           0                            |\n",
      "|  1   |  1   |  0   |  0   |                           0                            |\n",
      "|  1   |  0   |  1   |  1   |                           0                            |\n",
      "|  1   |  0   |  1   |  0   |                           1                            |\n",
      "|  1   |  0   |  0   |  1   |                           0                            |\n",
      "|  1   |  0   |  0   |  0   |                           0                            |\n",
      "|  0   |  1   |  1   |  1   |                           0                            |\n",
      "|  0   |  1   |  1   |  0   |                           0                            |\n",
      "|  0   |  1   |  0   |  1   |                           0                            |\n",
      "|  0   |  1   |  0   |  0   |                           0                            |\n",
      "|  0   |  0   |  1   |  1   |                           0                            |\n",
      "|  0   |  0   |  1   |  0   |                           0                            |\n",
      "|  0   |  0   |  0   |  1   |                           0                            |\n",
      "|  0   |  0   |  0   |  0   |                           0                            |\n",
      "+------+------+------+------+--------------------------------------------------------+\n"
     ]
    }
   ],
   "execution_count": 27
  },
  {
   "metadata": {
    "ExecuteTime": {
     "end_time": "2024-04-20T08:29:35.692727Z",
     "start_time": "2024-04-20T08:29:35.681114Z"
    }
   },
   "cell_type": "code",
   "source": [
    "from classiq import RegisterUserInput, construct_grover_model\n",
    "\n",
    "register_size = RegisterUserInput(size=1)\n",
    "\n",
    "qmod = construct_grover_model(\n",
    "    num_reps=1,\n",
    "    expression=\"(\" + formula1 + \")\",\n",
    "    definitions=[\n",
    "        (\"x1\", register_size),\n",
    "        (\"x2\", register_size),\n",
    "        (\"x3\", register_size),\n",
    "        (\"x4\", register_size),\n",
    "    ],\n",
    ")"
   ],
   "id": "9341e98d12669adb",
   "outputs": [],
   "execution_count": 28
  },
  {
   "metadata": {
    "ExecuteTime": {
     "end_time": "2024-04-20T08:29:36.664707Z",
     "start_time": "2024-04-20T08:29:36.656182Z"
    }
   },
   "cell_type": "code",
   "source": [
    "from classiq import write_qmod\n",
    "\n",
    "write_qmod(qmod, \"4_sat_grover\")"
   ],
   "id": "1e51df1c9cb1da03",
   "outputs": [],
   "execution_count": 29
  },
  {
   "metadata": {
    "ExecuteTime": {
     "end_time": "2024-04-20T08:29:41.989328Z",
     "start_time": "2024-04-20T08:29:37.283727Z"
    }
   },
   "cell_type": "code",
   "source": [
    "from classiq import QuantumProgram, synthesize, create_model, Preferences, set_preferences\n",
    "\n",
    "preferences = Preferences(\n",
    "    backend_service_provider=\"IBM Quantum\", backend_name=\"ibm_sherbrooke\"\n",
    ")\n",
    "model = set_preferences(qmod, preferences)\n",
    "qprog = synthesize(model)"
   ],
   "id": "95e21f063c50123b",
   "outputs": [],
   "execution_count": 30
  },
  {
   "metadata": {
    "ExecuteTime": {
     "end_time": "2024-04-20T08:29:46.072200Z",
     "start_time": "2024-04-20T08:29:44.741770Z"
    }
   },
   "cell_type": "code",
   "source": [
    "circuit = QuantumProgram.from_qprog(qprog)\n",
    "circuit.show()"
   ],
   "id": "6885ceac1c4e2166",
   "outputs": [
    {
     "name": "stdout",
     "output_type": "stream",
     "text": [
      "Opening: https://platform.classiq.io/circuit/68c9243d-aa27-4bd8-96e5-fa304f09f1af?version=0.40.0\n"
     ]
    }
   ],
   "execution_count": 31
  },
  {
   "metadata": {
    "ExecuteTime": {
     "end_time": "2024-04-20T08:29:49.381722Z",
     "start_time": "2024-04-20T08:29:49.368773Z"
    }
   },
   "cell_type": "code",
   "source": "print(circuit.transpiled_circuit.depth)",
   "id": "baa26f3580aa0d2b",
   "outputs": [
    {
     "name": "stdout",
     "output_type": "stream",
     "text": [
      "626\n"
     ]
    }
   ],
   "execution_count": 32
  },
  {
   "metadata": {
    "ExecuteTime": {
     "end_time": "2024-04-20T08:29:55.781274Z",
     "start_time": "2024-04-20T08:29:50.546366Z"
    }
   },
   "cell_type": "code",
   "source": [
    "from classiq import execute, set_quantum_program_execution_preferences\n",
    "from classiq.execution import (\n",
    "    ClassiqBackendPreferences,\n",
    "    ClassiqSimulatorBackendNames,\n",
    "    ExecutionPreferences,\n",
    ")\n",
    "\n",
    "backend_preferences = ExecutionPreferences(\n",
    "    backend_preferences=ClassiqBackendPreferences(\n",
    "        backend_name=ClassiqSimulatorBackendNames.SIMULATOR\n",
    "    )\n",
    ")\n",
    "\n",
    "qprog = set_quantum_program_execution_preferences(qprog, backend_preferences)\n",
    "optimization_result = execute(qprog).result()"
   ],
   "id": "21e57a62bfc2354e",
   "outputs": [],
   "execution_count": 33
  },
  {
   "metadata": {
    "ExecuteTime": {
     "end_time": "2024-04-20T08:29:55.788743Z",
     "start_time": "2024-04-20T08:29:55.784334Z"
    }
   },
   "cell_type": "code",
   "source": "res = optimization_result[0].value",
   "id": "a56cc89cf3ad97d",
   "outputs": [],
   "execution_count": 34
  },
  {
   "metadata": {
    "ExecuteTime": {
     "end_time": "2024-04-20T08:29:55.796442Z",
     "start_time": "2024-04-20T08:29:55.790170Z"
    }
   },
   "cell_type": "code",
   "source": "res.counts_of_multiple_outputs((\"x1\", \"x2\", \"x3\", \"x4\"))",
   "id": "fc7d1c4d3ff03dea",
   "outputs": [
    {
     "data": {
      "text/plain": [
       "{('1', '0', '1', '1'): 82,\n",
       " ('0', '1', '0', '0'): 76,\n",
       " ('1', '1', '0', '0'): 76,\n",
       " ('1', '1', '1', '0'): 81,\n",
       " ('1', '1', '0', '1'): 75,\n",
       " ('1', '0', '0', '1'): 69,\n",
       " ('1', '0', '1', '0'): 934,\n",
       " ('0', '1', '1', '1'): 82,\n",
       " ('0', '0', '1', '1'): 72,\n",
       " ('0', '0', '0', '1'): 74,\n",
       " ('0', '1', '1', '0'): 84,\n",
       " ('0', '0', '1', '0'): 59,\n",
       " ('0', '0', '0', '0'): 71,\n",
       " ('0', '1', '0', '1'): 74,\n",
       " ('1', '0', '0', '0'): 69,\n",
       " ('1', '1', '1', '1'): 70}"
      ]
     },
     "execution_count": 35,
     "metadata": {},
     "output_type": "execute_result"
    }
   ],
   "execution_count": 35
  },
  {
   "metadata": {},
   "cell_type": "code",
   "outputs": [],
   "execution_count": null,
   "source": "",
   "id": "cb4970f1b9ba6b2d"
  }
 ],
 "metadata": {
  "kernelspec": {
   "display_name": "Python 3",
   "language": "python",
   "name": "python3"
  },
  "language_info": {
   "codemirror_mode": {
    "name": "ipython",
    "version": 2
   },
   "file_extension": ".py",
   "mimetype": "text/x-python",
   "name": "python",
   "nbconvert_exporter": "python",
   "pygments_lexer": "ipython2",
   "version": "2.7.6"
  }
 },
 "nbformat": 4,
 "nbformat_minor": 5
}
