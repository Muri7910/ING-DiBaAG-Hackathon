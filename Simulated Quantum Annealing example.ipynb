{
 "cells": [
  {
   "cell_type": "markdown",
   "id": "c8d0bb28-4444-4209-9fba-f7524b51b89f",
   "metadata": {},
   "source": [
    "# Quantum Annealing\n",
    "Quantum annealing is a computational method utilized to solve complex optimization problems, leveraging quantum mechanics. This technique takes advantage of quantum superposition and entanglement to find the optimum solution from among a vast search space more efficiently than classical computing methods, through a process called adiabatic evolution.\n",
    "\n",
    "Adiabatic evolution in quantum annealing is a critical phase that provides the mechanism for the quantum system to seek out the minimal energy state, or the optimal solution for a given problem. The term \"adiabatic\" refers to the gradual change of parameters in the system, slow enough that the system remains close to its ground state. This process involves initiating a quantum state in a simple landscape where the ground state is easy to populate, and slowly transforming this into a complex landscape correlating to the problem at hand. If the evolution is slow enough, according to the adiabatic theorem, the system will stay in its ground state throughout the process, ultimately arriving at the solution when the complex landscape is achieved.\n",
    "\n",
    "Since we have no Quantum Annealing hardware (like D-Wave) available, we are performing Simulated Quantum Annealing."
   ]
  },
  {
   "cell_type": "markdown",
   "id": "b30b293f-b1f9-4edb-92a1-fc39f746ab02",
   "metadata": {},
   "source": [
    "## Simulated Quantum Annealer with siquan\n",
    "In this example we are using the [SiQuAn library](https://github.com/PlanQK/SimulatedQuantumAnnealing) for the Simulated Quantum Annealing. Even though it is written in C++, it can be called from Python with the corresponding plugin.\n",
    "### Setup\n",
    "Install cmake and clone git\n",
    "```\n",
    "sudo apt-get -y install cmake\n",
    "git clone https://github.com/PlanQK/SimulatedQuantumAnnealing.git\n",
    "```\n",
    "\n",
    "Update and compile\n",
    "```\n",
    "cd SimulatedQuantumAnnealing/\n",
    "git submodule init && git submodule update\n",
    "cmake .\n",
    "make\n",
    "```\n",
    "\n",
    "Add library to path:"
   ]
  },
  {
   "cell_type": "code",
   "execution_count": 1,
   "id": "98ffda76-85f4-4c85-9bec-8a4173ddea75",
   "metadata": {},
   "outputs": [],
   "source": [
    "import sys\n",
    "sys.path.append(\"<full path>/SimulatedQuantumAnnealing/pythonInterface\")"
   ]
  },
  {
   "cell_type": "markdown",
   "id": "a975e502-bcc0-43b6-93d8-05634e4bc5ff",
   "metadata": {},
   "source": [
    "### Basic siquan example"
   ]
  },
  {
   "cell_type": "code",
   "execution_count": 2,
   "id": "687e76e5-5059-41f5-ba4f-740ec8902f55",
   "metadata": {},
   "outputs": [],
   "source": [
    "import siquan\n",
    "\n",
    "dtsqa = siquan.DTSQA()\n",
    "# possibility to set various parameters\n",
    "dtsqa.setHSchedule(\"[0.0]\")\n",
    "dtsqa.setTSchedule(\"[10, 0.001]\")\n",
    "dtsqa.setSeed(42)\n",
    "dtsqa.setSteps(10000)\n",
    "dtsqa.setTrotterSlices(32)\n",
    "# first param: problem description: List of Tuples\n",
    "#              each Tuple describes one interaction,\n",
    "#              first param: coupling strength\n",
    "#              second param: List of qubit indices\n",
    "# second param: number of qubits\n",
    "result = dtsqa.minimize(\n",
    "    [(1,[0]), (1.5, [0,1]), (-1., [1,2,3])],\n",
    "    4\n",
    ")"
   ]
  },
  {
   "cell_type": "markdown",
   "id": "0b2d5eb1-9a21-4904-835d-8550cd54e163",
   "metadata": {},
   "source": [
    "### CNF siquan example"
   ]
  },
  {
   "cell_type": "code",
   "execution_count": 8,
   "id": "25591b8b-ed3b-4308-a4aa-1f892a25cf64",
   "metadata": {},
   "outputs": [],
   "source": [
    "import sympy\n",
    "import numpy as np\n",
    "import collections\n",
    "import itertools\n",
    "\n",
    "\n",
    "class IsingFromCNF:\n",
    "    \"\"\"\n",
    "    Use sympy for the transformation.\n",
    "    \"\"\"\n",
    "\n",
    "    def __init__(self, cnf):\n",
    "        \"\"\"\n",
    "        Immediately create the cost function from the cnf. This is stored in\n",
    "        a dictionary where the key is a set of spin indices and the value is the\n",
    "        interaction strength\n",
    "        \"\"\"\n",
    "        self.costFunction = collections.defaultdict(float)\n",
    "\n",
    "        # find the number of variables\n",
    "        variable_ids = set()\n",
    "        for interactions in itertools.chain(cnf):\n",
    "            for literalID in interactions:\n",
    "                variable_ids.add(abs(literalID))\n",
    "        self.maxEncounteredIndex = len(variable_ids)\n",
    "\n",
    "        self._translate_cnf(cnf)\n",
    "\n",
    "    def _translate_cnf(self, cnf):\n",
    "        for constraint in cnf:\n",
    "            for key, interaction in self._translate_clause(constraint).items():\n",
    "                self.costFunction[key] += interaction\n",
    "\n",
    "    def to_ising_representation(self):\n",
    "        \"\"\"\n",
    "        Given the internal cost function reformulate the cost for the SQA optimizer.\n",
    "        \"\"\"\n",
    "        return [(-1 * interaction, list(spins)) for spins, interaction in self.costFunction.items()]\n",
    "\n",
    "    def constant_term(self):\n",
    "        \"\"\"\n",
    "        Determine the cost contribution of the constant term\n",
    "        \"\"\"\n",
    "        return self.costFunction.get(tuple(), 0)\n",
    "\n",
    "    def total_variables(self):\n",
    "        return self.maxEncounteredIndex\n",
    "\n",
    "    def _translate_clause(self, clause):\n",
    "        \"\"\"\n",
    "        This function converts a clause into a polynomial given the above derivation.\n",
    "        \"\"\"\n",
    "        polynomial_contributions = [self._binary_to_spin_var(literal) for literal in clause]\n",
    "        total_polynomial = np.prod(polynomial_contributions)\n",
    "        monomials = total_polynomial.monoms()\n",
    "        coefficients = total_polynomial.coeffs()\n",
    "        symbols = [int(str(symb)[2:]) for symb in total_polynomial.gens]\n",
    "        list_of_interactions = collections.defaultdict(float)\n",
    "        for i in range(len(monomials)):\n",
    "            key = set()\n",
    "            for monomialId, value in enumerate(monomials[i]):\n",
    "                if value == 1:\n",
    "                    key.add(symbols[monomialId])\n",
    "            list_of_interactions[tuple(sorted(list(key)))] += coefficients[i]\n",
    "        return list_of_interactions\n",
    "\n",
    "    @classmethod\n",
    "    def _binary_to_spin_var(cls, literal_id):\n",
    "        \"\"\"\n",
    "        Transform each literal with index i to an Ising spin index. We take care\n",
    "        of performing a not operation if the literal is negative and transform\n",
    "        between different conventions.\n",
    "        - Pysat starts counting the literal indices at 1 we start counting at 0.\n",
    "        - As each literal is part of a disjunction we need to transform the\n",
    "        non-negated literals with the transformation 1-s.\n",
    "        \"\"\"\n",
    "        x = sympy.symbols(f\"x_{abs(literal_id) - 1}\")\n",
    "        if literal_id > 0:\n",
    "            return sympy.poly((1 - x) / 2)\n",
    "        else:\n",
    "            return sympy.poly((1 + x) / 2)"
   ]
  },
  {
   "cell_type": "markdown",
   "id": "5d4a4d80-0f49-4576-b6f2-7428dca19a26",
   "metadata": {},
   "source": [
    "Make sure \n",
    "```\n",
    "<full path>/.venv/lib/python3.10/site-packages\n",
    "```\n",
    "is part of the path."
   ]
  },
  {
   "cell_type": "code",
   "execution_count": 4,
   "id": "ad583ce5-ac2c-4b92-85c1-e56954073422",
   "metadata": {},
   "outputs": [],
   "source": [
    "from pysat.formula import CNF\n",
    "\n",
    "cnf = CNF(from_clauses=[[-1, -2, -3], [-1, -2, 3]])"
   ]
  },
  {
   "cell_type": "markdown",
   "id": "09b9295c-3ed6-4832-8ab5-9e75f187b836",
   "metadata": {},
   "source": [
    "Set simulator"
   ]
  },
  {
   "cell_type": "code",
   "execution_count": null,
   "id": "6c021bba-095d-48fd-b5d9-e078d29ecc62",
   "metadata": {},
   "outputs": [],
   "source": [
    "dtsqa = siquan.DTSQA()\n",
    "dtsqa.setHSchedule(\"[0.0]\")\n",
    "dtsqa.setTSchedule(\"[10, 0.001]\")\n",
    "dtsqa.setSeed(42)\n",
    "dtsqa.setSteps(10000)\n",
    "dtsqa.setTrotterSlices(32)"
   ]
  },
  {
   "cell_type": "code",
   "execution_count": 9,
   "id": "5b847fde-ae65-4217-8bff-be60fe2e4e01",
   "metadata": {},
   "outputs": [],
   "source": [
    "sampleProblem = IsingFromCNF(cnf)\n",
    "solution = dtsqa.minimize(sampleProblem.to_ising_representation(), sampleProblem.total_variables())\n",
    "\n",
    "# the constant term is not added to the energy for the optimizer.\n",
    "# The total cost is 0 which indicates that all clauses are satisfied\n",
    "print(solution)\n",
    "print(eval(solution[\"energy\"]) - sampleProblem.constant_term())"
   ]
  }
 ],
 "metadata": {
  "kernelspec": {
   "display_name": "Python 3 (ipykernel)",
   "language": "python",
   "name": "python3"
  },
  "language_info": {
   "codemirror_mode": {
    "name": "ipython",
    "version": 3
   },
   "file_extension": ".py",
   "mimetype": "text/x-python",
   "name": "python",
   "nbconvert_exporter": "python",
   "pygments_lexer": "ipython3",
   "version": "3.10.6"
  }
 },
 "nbformat": 4,
 "nbformat_minor": 5
}
