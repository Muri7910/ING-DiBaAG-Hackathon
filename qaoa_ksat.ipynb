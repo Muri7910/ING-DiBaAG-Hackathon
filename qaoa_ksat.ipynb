{
 "cells": [
  {
   "cell_type": "code",
   "execution_count": 1,
   "metadata": {},
   "outputs": [],
   "source": [
    "import matplotlib.pyplot as plt\n",
    "from classiq import construct_combinatorial_optimization_model\n",
    "from classiq.applications.combinatorial_optimization import OptimizerConfig, QAOAConfig\n",
    "import numpy as np\n",
    "from qiskit import QuantumCircuit as qc\n",
    "from pyomo.environ import *\n",
    "from pyomo.opt import SolverFactory\n",
    "from classiq import show, synthesize\n",
    "from classiq import execute\n",
    "import pandas as pd\n",
    "from classiq.applications.combinatorial_optimization import get_optimization_solution_from_pyo\n",
    "from classiq import set_execution_preferences\n",
    "from classiq.execution import ClassiqBackendPreferences, ExecutionPreferences\n",
    "from classiq import write_qmod\n",
    "import random as rd"
   ]
  },
  {
   "cell_type": "code",
   "execution_count": 2,
   "metadata": {},
   "outputs": [
    {
     "data": {
      "text/plain": [
       "<pyomo.core.base.PyomoModel.ConcreteModel at 0x1426f9360>"
      ]
     },
     "execution_count": 2,
     "metadata": {},
     "output_type": "execute_result"
    }
   ],
   "source": [
    "c_test = [[1,0,0,0],[1,0,1,0],[0,-1,0,0],[0,0,0,-1],[0,0,1,1]]\n",
    "\n",
    "def model_from_mat(p_mat=c_test):\n",
    "    cost = 0\n",
    "    n, m = len(p_mat[0]), len(p_mat)\n",
    "    model = ConcreteModel()\n",
    "    model.x = Var(range(n), domain=Binary)\n",
    "    for i in range(m):\n",
    "        clause_i = 1\n",
    "        for j in range(n):\n",
    "            if(p_mat[i][j] == 1):\n",
    "                clause_i *= 1-model.x[j]\n",
    "            if(p_mat[i][j] == -1):\n",
    "                clause_i *= model.x[j]\n",
    "        cost += clause_i\n",
    "    model.obj = Objective(expr=cost, sense=minimize)\n",
    "    return model"
   ]
  },
  {
   "cell_type": "code",
   "execution_count": 10,
   "metadata": {},
   "outputs": [],
   "source": [
    "def solve_ksat_qaoa(p_mat=c_test,penalty_energy=2,alpha_cavar=0.9,max_iter=500,backend_name=\"aer_simulator\"):\n",
    "    model = model_from_mat(p_mat)\n",
    "    qaoa_config = QAOAConfig(num_layers=1, penalty_energy=2)\n",
    "    optimizer_config = OptimizerConfig(max_iteration=500, alpha_cvar=0.9)\n",
    "    qmod = construct_combinatorial_optimization_model(\n",
    "        pyo_model=model,\n",
    "        qaoa_config=qaoa_config,\n",
    "        optimizer_config=optimizer_config,\n",
    "    )\n",
    "    backend_preferences = ExecutionPreferences(\n",
    "        backend_preferences=ClassiqBackendPreferences(backend_name=\"aer_simulator\")\n",
    "    )\n",
    "    qmod = set_execution_preferences(qmod, backend_preferences)\n",
    "    qprog = synthesize(qmod)\n",
    "    res = execute(qprog).result()\n",
    "    vqe_result = res[0].value\n",
    "    solution = get_optimization_solution_from_pyo(\n",
    "        model, vqe_result=vqe_result, penalty_energy=qaoa_config.penalty_energy\n",
    "    )\n",
    "    optimization_result = pd.DataFrame.from_records(solution)\n",
    "    idx = optimization_result.cost.idxmin()\n",
    "    sol = optimization_result.solution[idx]\n",
    "    cost = optimization_result.cost[idx]\n",
    "    prob = optimization_result.probability[idx]\n",
    "    table = pd.DataFrame.from_records(solution)\n",
    "    print(f\"QAOA solution: {sol}\\n QAOA probability: {prob}\\n QAOA cost: {cost}\")\n",
    "    return sol, prob, cost, table"
   ]
  },
  {
   "cell_type": "code",
   "execution_count": 11,
   "metadata": {},
   "outputs": [
    {
     "name": "stdout",
     "output_type": "stream",
     "text": [
      "QAOA solution: [1, 0, 1, 0, 0]\n",
      " QAOA probability: 0.35937499999999994\n",
      " QAOA cost: 0.0\n"
     ]
    }
   ],
   "source": [
    "ctest_2 = [[1,0,0,0,0],[1,0,1,0,0],[0,-1,0,0,0],[0,0,0,-1,0],[0,0,1,1,0],[0,0,0,0,-1],[1,0,0,0,1]]\n",
    "solve_ksat_qaoa(ctest_2)"
   ]
  },
  {
   "cell_type": "code",
   "execution_count": 5,
   "metadata": {},
   "outputs": [],
   "source": [
    "def solve_ksat_class(matrix=c_test):\n",
    "    model = ConcreteModel()\n",
    "    n, m = len(matrix[0]), len(matrix)\n",
    "    model.x = Var(range(n), domain=Binary)\n",
    "    model.obj = Objective(expr=0, sense=minimize)\n",
    "    model.constraints = ConstraintList()\n",
    "\n",
    "    for i in range(m):\n",
    "        clause_expr = 0\n",
    "        for j in range(n):\n",
    "            if matrix[i][j] == 1:\n",
    "                clause_expr += model.x[j]  # Variable itself\n",
    "            elif matrix[i][j] == -1:\n",
    "                clause_expr += (1 - model.x[j])  # Negation of the variable\n",
    "        # Add at least one true literal per clause\n",
    "        model.constraints.add(clause_expr >= 1)\n",
    "        solver = SolverFactory('glpk')\n",
    "        solver.solve(model, tee=False)\n",
    "    solarray = [int(model.x[i].value) for i in range(n)]\n",
    "    print(f\"Classical solution : {solarray}\")\n",
    "    return [int(model.x[i].value) for i in range(n)]\n",
    "\n",
    "def solve_ksat(matrix=c_test):\n",
    "    csol = solve_ksat_class(matrix)\n",
    "    qsol, qprob, qcost, table = solve_ksat_mat(matrix)\n",
    "    if(csol == qsol):\n",
    "        print(\"Both solutions are equal!\")\n",
    "    return csol, qsol, qprob, qcost, table"
   ]
  },
  {
   "cell_type": "code",
   "execution_count": 12,
   "metadata": {},
   "outputs": [],
   "source": [
    "def generate_satisfiable_ksat_matrix(k, m, p=0.5): # p is the probability of including a variable in a clause\n",
    "    matrix = np.zeros((m, k), dtype=int)\n",
    "    for i in range(m):\n",
    "        for j in range(k):\n",
    "            if rd.random() < p:  # Probability of including a variable in a clause\n",
    "                # Assign either 1 or -1 (true or negated)\n",
    "                matrix[i, j] = 1 if rd.random() < 0.5 else -1\n",
    "    return matrix"
   ]
  },
  {
   "cell_type": "code",
   "execution_count": 63,
   "metadata": {},
   "outputs": [],
   "source": [
    "ran_mat_test = generate_satisfiable_ksat_matrix(4, 4, p=0.5)\n"
   ]
  },
  {
   "cell_type": "code",
   "execution_count": 67,
   "metadata": {},
   "outputs": [
    {
     "data": {
      "text/plain": [
       "[array([ 0,  0, -1,  0]),\n",
       " array([ 0,  0,  1, -1]),\n",
       " array([ 0, -1, -1, -1]),\n",
       " array([ 0,  0,  0, -1])]"
      ]
     },
     "execution_count": 67,
     "metadata": {},
     "output_type": "execute_result"
    }
   ],
   "source": [
    "list(ran_mat_test)"
   ]
  },
  {
   "cell_type": "code",
   "execution_count": 65,
   "metadata": {},
   "outputs": [
    {
     "name": "stdout",
     "output_type": "stream",
     "text": [
      "WARNING: Constant objective detected, replacing with a placeholder to prevent\n",
      "    solver failure.\n",
      "WARNING: Constant objective detected, replacing with a placeholder to prevent\n",
      "    solver failure.\n",
      "WARNING: Constant objective detected, replacing with a placeholder to prevent\n",
      "    solver failure.\n",
      "WARNING: Constant objective detected, replacing with a placeholder to prevent\n",
      "    solver failure.\n"
     ]
    },
    {
     "ename": "TypeError",
     "evalue": "int() argument must be a string, a bytes-like object or a real number, not 'NoneType'",
     "output_type": "error",
     "traceback": [
      "\u001b[0;31m---------------------------------------------------------------------------\u001b[0m",
      "\u001b[0;31mTypeError\u001b[0m                                 Traceback (most recent call last)",
      "Cell \u001b[0;32mIn[65], line 1\u001b[0m\n\u001b[0;32m----> 1\u001b[0m \u001b[43msolve_ksat_class\u001b[49m\u001b[43m(\u001b[49m\u001b[43mran_mat_test\u001b[49m\u001b[43m)\u001b[49m\n",
      "Cell \u001b[0;32mIn[61], line 19\u001b[0m, in \u001b[0;36msolve_ksat_class\u001b[0;34m(matrix)\u001b[0m\n\u001b[1;32m     17\u001b[0m     solver \u001b[38;5;241m=\u001b[39m SolverFactory(\u001b[38;5;124m'\u001b[39m\u001b[38;5;124mglpk\u001b[39m\u001b[38;5;124m'\u001b[39m)\n\u001b[1;32m     18\u001b[0m     solver\u001b[38;5;241m.\u001b[39msolve(model, tee\u001b[38;5;241m=\u001b[39m\u001b[38;5;28;01mFalse\u001b[39;00m)\n\u001b[0;32m---> 19\u001b[0m solarray \u001b[38;5;241m=\u001b[39m \u001b[43m[\u001b[49m\u001b[38;5;28;43mint\u001b[39;49m\u001b[43m(\u001b[49m\u001b[43mmodel\u001b[49m\u001b[38;5;241;43m.\u001b[39;49m\u001b[43mx\u001b[49m\u001b[43m[\u001b[49m\u001b[43mi\u001b[49m\u001b[43m]\u001b[49m\u001b[38;5;241;43m.\u001b[39;49m\u001b[43mvalue\u001b[49m\u001b[43m)\u001b[49m\u001b[43m \u001b[49m\u001b[38;5;28;43;01mfor\u001b[39;49;00m\u001b[43m \u001b[49m\u001b[43mi\u001b[49m\u001b[43m \u001b[49m\u001b[38;5;129;43;01min\u001b[39;49;00m\u001b[43m \u001b[49m\u001b[38;5;28;43mrange\u001b[39;49m\u001b[43m(\u001b[49m\u001b[43mn\u001b[49m\u001b[43m)\u001b[49m\u001b[43m]\u001b[49m\n\u001b[1;32m     20\u001b[0m \u001b[38;5;28mprint\u001b[39m(\u001b[38;5;124mf\u001b[39m\u001b[38;5;124m\"\u001b[39m\u001b[38;5;124mClassical solution : \u001b[39m\u001b[38;5;132;01m{\u001b[39;00msolarray\u001b[38;5;132;01m}\u001b[39;00m\u001b[38;5;124m\"\u001b[39m)\n\u001b[1;32m     21\u001b[0m \u001b[38;5;28;01mreturn\u001b[39;00m [\u001b[38;5;28mint\u001b[39m(model\u001b[38;5;241m.\u001b[39mx[i]\u001b[38;5;241m.\u001b[39mvalue) \u001b[38;5;28;01mfor\u001b[39;00m i \u001b[38;5;129;01min\u001b[39;00m \u001b[38;5;28mrange\u001b[39m(n)]\n",
      "Cell \u001b[0;32mIn[61], line 19\u001b[0m, in \u001b[0;36m<listcomp>\u001b[0;34m(.0)\u001b[0m\n\u001b[1;32m     17\u001b[0m     solver \u001b[38;5;241m=\u001b[39m SolverFactory(\u001b[38;5;124m'\u001b[39m\u001b[38;5;124mglpk\u001b[39m\u001b[38;5;124m'\u001b[39m)\n\u001b[1;32m     18\u001b[0m     solver\u001b[38;5;241m.\u001b[39msolve(model, tee\u001b[38;5;241m=\u001b[39m\u001b[38;5;28;01mFalse\u001b[39;00m)\n\u001b[0;32m---> 19\u001b[0m solarray \u001b[38;5;241m=\u001b[39m [\u001b[38;5;28;43mint\u001b[39;49m\u001b[43m(\u001b[49m\u001b[43mmodel\u001b[49m\u001b[38;5;241;43m.\u001b[39;49m\u001b[43mx\u001b[49m\u001b[43m[\u001b[49m\u001b[43mi\u001b[49m\u001b[43m]\u001b[49m\u001b[38;5;241;43m.\u001b[39;49m\u001b[43mvalue\u001b[49m\u001b[43m)\u001b[49m \u001b[38;5;28;01mfor\u001b[39;00m i \u001b[38;5;129;01min\u001b[39;00m \u001b[38;5;28mrange\u001b[39m(n)]\n\u001b[1;32m     20\u001b[0m \u001b[38;5;28mprint\u001b[39m(\u001b[38;5;124mf\u001b[39m\u001b[38;5;124m\"\u001b[39m\u001b[38;5;124mClassical solution : \u001b[39m\u001b[38;5;132;01m{\u001b[39;00msolarray\u001b[38;5;132;01m}\u001b[39;00m\u001b[38;5;124m\"\u001b[39m)\n\u001b[1;32m     21\u001b[0m \u001b[38;5;28;01mreturn\u001b[39;00m [\u001b[38;5;28mint\u001b[39m(model\u001b[38;5;241m.\u001b[39mx[i]\u001b[38;5;241m.\u001b[39mvalue) \u001b[38;5;28;01mfor\u001b[39;00m i \u001b[38;5;129;01min\u001b[39;00m \u001b[38;5;28mrange\u001b[39m(n)]\n",
      "\u001b[0;31mTypeError\u001b[0m: int() argument must be a string, a bytes-like object or a real number, not 'NoneType'"
     ]
    }
   ],
   "source": [
    "solve_ksat_class(ran_mat_test)"
   ]
  },
  {
   "cell_type": "code",
   "execution_count": null,
   "metadata": {},
   "outputs": [],
   "source": []
  }
 ],
 "metadata": {
  "kernelspec": {
   "display_name": "Python 3",
   "language": "python",
   "name": "python3"
  },
  "language_info": {
   "codemirror_mode": {
    "name": "ipython",
    "version": 3
   },
   "file_extension": ".py",
   "mimetype": "text/x-python",
   "name": "python",
   "nbconvert_exporter": "python",
   "pygments_lexer": "ipython3",
   "version": "3.11.8"
  }
 },
 "nbformat": 4,
 "nbformat_minor": 2
}
