{
 "cells": [
  {
   "cell_type": "markdown",
   "id": "7c00e465-cde5-455e-82c2-f57040d01d96",
   "metadata": {},
   "source": [
    "# Quantum Optimization\n",
    "\n",
    "Mathematical optimization is a branch of mathematics that focuses on finding the best solution to a problem while adhering to certain constraints. It involves maximizing or minimizing an objective function based on variables and specific conditions. This field has wide-ranging applications, such as optimizing production processes, managing supply chains, determining efficient transportation routes, designing structures or allocating resources.\n",
    "\n",
    "Quantum optimization leverages the principles of quantum mechanics, such as superposition and entanglement, to explore multiple solution options simultaneously. Thus quantum computers can potentially outperform classical computers in handling complex optimization tasks by rapidly searching vast solution spaces with improved efficiency. \n",
    "\n",
    "Due to quantum computers currently having a limited number of qubits and suffer from significant noise and errors in their operations, the current state of quantum computing is called the noisy intermediata-scale quantum (NISQ) era, where a quantum advantage only exists theoretically or for selected (low complexity) problems.\n"
   ]
  },
  {
   "cell_type": "markdown",
   "id": "3e28eaa0-6540-4102-8d40-a86b4c7a0347",
   "metadata": {},
   "source": [
    "## Basic Explanations\n",
    "These explanations should provide you with a basic understanding of topics used throughout the challenges.\n",
    "### ESG\n",
    "ESG stands for Environmental, Social, and Governance, three key factors used to measure the sustainability and ethical impact of an investment in a company or business. They are a part of what is called \"sustainable investing\", a strategy to invest in companies that incorporate principles of corporate social responsibility or those that aim to positively contribute to society or the environment.\n",
    "ESG factors are incorporated into investment decision-making processes in the belief that they can offer investors potential long-term performance advantages.\n",
    "### k-SAT\n",
    "k-SAT (k-satisfiability) is a computational problem in the field of computer science. The problem involves determining if there exists an assignment of truth values to a set of Boolean variables that would make a given Boolean formula true. For a k-SAT problem, each clause in the Boolean formula has exactly 'k' literals. A 'literal' can be either a variable, or the negation of a variable.\n",
    "\n",
    "k-SAT is a significant problem in computer science because it was one of the first problems proven to be NP-Complete, and therefore, is used to show that other problems are also NP-Complete by reductions.\n",
    "\n",
    "*Example with k=2*\n",
    "$$\n",
    "f(x) = (x_1 \\lor x_2) \\land (\\lnot x_1 \\lor x_2)\n",
    "$$\n",
    "$f(x)$ is satisfied for the $(x_1, x_2)$ configurations of $(0, 1)$ and $(1, 1)$.\n",
    "\n",
    "### CNF\n",
    "A boolean formula is in Conjuctive Normal Form (CNF) when it is a conjunction of one or more clauses, where a clause is a disjunction of one or more literals.\n",
    "\n",
    "**CNF** has the following form\n",
    "$$\n",
    "CNF(k,m) = \\bigwedge_{i=1}^m C_i = C_1 \\wedge C_2 \\wedge ... \\wedge C_m\n",
    "$$\n",
    "\n",
    "Each **clause** $ C_i $ is a disjunction of k literals, e.g. for k = 3:\n",
    "$$\n",
    "C_i = \\bigvee_{j=1}^k x_{i,j} = x_ {i, 1} \\lor x_{i, 2} \\lor \\lnot x_{i, 3} \n",
    "$$\n",
    "with each **literal**\n",
    "$$ x_{i,j} \\in \\{0, 1\\}$$\n",
    "\n",
    "### Grover's algorithm\n",
    "We recommend having a look [here](https://learn.microsoft.com/en-us/azure/quantum/concepts-grovers).\n",
    "\n",
    "### QAOA\n",
    "The Quantum Approximate Optimization Algorithm (QAOA) is a variational quantum algorithm for tackling combinatorial optimization problems. In QAOA, a combination of classical and quantum computing resources is used to hone in on the optimal solution iteratively. The algorithm starts with an initial guess for parameters that dictate the quantum system's evolution. Then, it alternates between two steps: evolving the quantum system (a quantum subroutine run on a quantum computer) and then refining the parameters with a classical computer based on the outcome. The quantum evolution involves two quantum operations, which are applied successively. These operations nudge the quantum system towards the ground state of a problem Hamiltonian, which corresponds to the optimal solution."
   ]
  },
  {
   "cell_type": "markdown",
   "id": "493bebbd-7407-44cf-a3b7-3376af394436",
   "metadata": {},
   "source": [
    "## Challenges\n",
    "In these challenges we want to introduce a real world problem, which can be expressed as a k-SAT problem. The k-SAT problem itself should be solved using the following quantum optimization methods:\n",
    "- Grover's algorithm\n",
    "- Quantum Approximate Optimization Algorithm (QAOA)\n",
    "- Simulated Quantum Annealing (SQA)\n",
    "\n",
    "These can be benchmarked against one another and classical SAT-solvers.\n",
    "In the end the results should be presented.\n",
    "\n",
    "We recommend using the [Classiq Python SDK](https://docs.classiq.io/latest/getting-started/python-sdk/), since Classiq allows for easy generation and execution of quantum circuits. \n",
    "\n",
    "### Real world problem\n",
    "You have been assigned the role of a chief investment strategist for a burgeoning Fintech firm. Your challenge is to identify potential investments from a list of companies that are expected to exhibit considerable growth in the near future. However, your investment criteria are not just based on financial growth projections. Keeping in line with the core values of your firm, you have to carefully incorporate Environmental, Social and Governance (ESG) criteria into your investment decisions.\n",
    "\n",
    "For the sake of simplicity we assume all investments in these companies have an identical return on investment (ROI), thus the focus should be on the ESG criteria. To fulfill the ESG goals of your company the final portfolio should cover 3 different ESG criteria. Negative criteria has to be omitted (weapons export).\n",
    "These are the potential companies and the ESG goals they achieve:\n",
    "- Company 1: Clean water, Good governance\n",
    "- Company 2: Weapons export\n",
    "- Company 3: Good governance, Inclusion\n",
    "- Company 4: Inclusion, Weapons export\n",
    "\n",
    "Based on this come up with a more challenging extension."
   ]
  },
  {
   "attachments": {},
   "cell_type": "markdown",
   "id": "1767303f-b36b-49c4-8de9-917b4610cc13",
   "metadata": {},
   "source": [
    "### 1. Convert to CNF-formula\n",
    "Convert the real world problem into a k-SAT-CNF-formula. "
   ]
  },
  {
   "cell_type": "markdown",
   "id": "eefe16c5-0ce4-4950-9c76-172b8fd8382e",
   "metadata": {},
   "source": [
    "### 2. Solving k-SAT with Grover's Algorithm\n",
    "\n",
    "#### 2.1 Build algorithm from scratch\n",
    "Solve the k-SAT problem from above using Grover's algorithm. To get a better understanding of the topic, don't use the classiq.construct_grover_model() method and build it from scratch.\n",
    "\n",
    "#### 2.2 Use advances method\n",
    "Solve the k-SAT problem from above using Grover's algorithm. We recommend having a look at this implementation of a [3-SAT problem solved with Grover](https://github.com/Classiq/classiq-models/blob/main/algorithms/grover/3_sat_grover/3_sat_grover.ipynb).\n",
    "\n",
    "#### 2.3 Apply noise\n",
    "The results of current state quantum computers are very error prone, due to the systems being noisy and having a high decoherence rate, while quantum error correction is complex and 'costs' a lot of qubits.\n",
    "Simulate a more real quantum computer by adding noise."
   ]
  },
  {
   "cell_type": "markdown",
   "id": "766008dd-7508-4d18-ac29-491f6d4a6840",
   "metadata": {},
   "source": [
    "### 3. Alternative Solvers\n",
    "#### 3.1 Solving k-SAT with QAOA\n",
    "Solve the k-SAT problem from above using QAOA. We recommend having a look at this [Portfolio optimization solved with QAOA](https://github.com/Classiq/classiq-models/blob/main/applications/finance/portfolio_optimization/portfolio_optimization.ipynb).\n",
    "\n",
    "#### 3.2 Solving k-SAT with SQA\n",
    "Solve the k-SAT problem from above using Simulated Quantum Annealing. Have a look at the *Simulated Quantum Annealing example* notebook for implementation "
   ]
  },
  {
   "cell_type": "markdown",
   "id": "551ce3ee-f0ec-4bf3-8cd6-b14fec2e6999",
   "metadata": {},
   "source": [
    "### 4. Performance comparison of different solvers\n",
    "Compare the performance of the different solvers for multiple k-SAT problems with varying complexity. Take into account:\n",
    "- Number of qubits\n",
    "- Gate count\n",
    "- Execution time\n",
    "\n",
    "*Optional*: For the execution time, also include a classic SAT solver."
   ]
  },
  {
   "cell_type": "markdown",
   "id": "321b295e-a0e6-4c2b-a2a8-90664c7efa29",
   "metadata": {},
   "source": [
    "### 5. *Optional* - Research challenge\n",
    "What further problems exist in finance, which could be solved more efficiently using quantum optimization?"
   ]
  },
  {
   "cell_type": "markdown",
   "id": "97176189",
   "metadata": {},
   "source": [
    "### 6. Present your results\n",
    "Present your results in a form that is up to you.\n",
    "Also what did your learning progress look like, what was the biggest hurdle and how did you address that hurdle?"
   ]
  },
  {
   "cell_type": "markdown",
   "id": "a82e962b-ea18-4173-9c3a-0c81cb6ef31b",
   "metadata": {},
   "source": [
    "## Further information\n",
    "### Links\n",
    "These links should provide a basic understanding of solving problems with Classiq.\n",
    "- [Classiq Ising Model example](https://docs.classiq.io/latest/tutorials/applications/physical-systems/ising-model/ising-model/)\n",
    "- [3-SAT problem solved with Grover](https://github.com/Classiq/classiq-models/blob/main/algorithms/grover/3_sat_grover/3_sat_grover.ipynb)\n",
    "- [Portfolio optimization solved with QAOA](https://github.com/Classiq/classiq-models/blob/main/applications/finance/portfolio_optimization/portfolio_optimization.ipynb)\n",
    "- [Portfolio optimization solved with QAOA and AWS Braket](https://aws.amazon.com/de/blogs/quantum-computing/citi-and-classiq-advance-quantum-solutions-for-portfolio-optimization/)"
   ]
  }
 ],
 "metadata": {
  "kernelspec": {
   "display_name": "Python 3 (ipykernel)",
   "language": "python",
   "name": "python3"
  },
  "language_info": {
   "codemirror_mode": {
    "name": "ipython",
    "version": 3
   },
   "file_extension": ".py",
   "mimetype": "text/x-python",
   "name": "python",
   "nbconvert_exporter": "python",
   "pygments_lexer": "ipython3",
   "version": "3.10.6"
  }
 },
 "nbformat": 4,
 "nbformat_minor": 5
}
